{
  "nbformat": 4,
  "nbformat_minor": 0,
  "metadata": {
    "colab": {
      "name": "news_scrapping.ipynb",
      "version": "0.3.2",
      "provenance": [],
      "collapsed_sections": []
    },
    "kernelspec": {
      "name": "python3",
      "display_name": "Python 3"
    }
  },
  "cells": [
    {
      "cell_type": "code",
      "metadata": {
        "id": "PRjNLNXF8anZ",
        "colab_type": "code",
        "colab": {}
      },
      "source": [
        "import requests\n",
        "import urllib\n",
        "import urllib.request\n",
        "import time\n",
        "from bs4 import BeautifulSoup\n",
        "import pandas as pd\n",
        "import time"
      ],
      "execution_count": 0,
      "outputs": []
    },
    {
      "cell_type": "markdown",
      "metadata": {
        "id": "oYQOE0dUTurw",
        "colab_type": "text"
      },
      "source": [
        "We are fetching only headlines of the news"
      ]
    },
    {
      "cell_type": "code",
      "metadata": {
        "id": "VlRCF-Uc_RkG",
        "colab_type": "code",
        "colab": {}
      },
      "source": [
        "#soup = BeautifulSoup(response.text,'html.parser')\n",
        "#For sport news The link is-\"https://in.reuters.com/news/archive/sportsnews?view=page&page=2&pageSize=10\"\n",
        "#For Tech news The link is-\"https://in.reuters.com/news/archive/technologynews?view=page&page=2&pageSize=10\"\n",
        "#for business news THE link is-\"https://in.reuters.com/news/archive/businessnews?view=page&page=2&pageSize=10\"\n",
        "k=[]\n",
        "for i in range(1,2000):\n",
        "  url='https://in.reuters.com/news/archive/businessnews?view=page&page={}&pageSize=10'.format(i)\n",
        "  response = requests.get(url)\n",
        "  soup = BeautifulSoup(response.text,'html.parser')\n",
        "  d=[]\n",
        "  d=soup.findAll(\"h3\", class_=\"story-title\")\n",
        "  d=d[:-3] #It is done to remove news that appears as advertisement\n",
        "  k=k+d\n",
        "  \n",
        "  "
      ],
      "execution_count": 0,
      "outputs": []
    },
    {
      "cell_type": "markdown",
      "metadata": {
        "id": "a2-QRSgTUL-g",
        "colab_type": "text"
      },
      "source": [
        "You can put these three links in a list and iterate to achieve more automation."
      ]
    },
    {
      "cell_type": "code",
      "metadata": {
        "id": "rb1jpoXil1ao",
        "colab_type": "code",
        "colab": {}
      },
      "source": [
        "f=[]\n",
        "for h in k:\n",
        "  f.append(h.text.strip())\n",
        "\n"
      ],
      "execution_count": 0,
      "outputs": []
    },
    {
      "cell_type": "code",
      "metadata": {
        "id": "4-ux9Caw7PNX",
        "colab_type": "code",
        "colab": {}
      },
      "source": [
        "df=pd.DataFrame()\n",
        "df[\"News\"]=f\n",
        "df['Category']='Business'   #Change category according to type of news link i.e \"sport\",\"tech\".\"Business\""
      ],
      "execution_count": 0,
      "outputs": []
    },
    {
      "cell_type": "code",
      "metadata": {
        "id": "VnFUHM9Z8A4w",
        "colab_type": "code",
        "colab": {}
      },
      "source": [
        "df.head()"
      ],
      "execution_count": 0,
      "outputs": []
    },
    {
      "cell_type": "code",
      "metadata": {
        "id": "wi_3Qg86KjDO",
        "colab_type": "code",
        "colab": {}
      },
      "source": [
        "df.to_csv('Business_2.txt')\n",
        "from google.colab import files\n",
        "files.download('Business_2.txt')"
      ],
      "execution_count": 0,
      "outputs": []
    },
    {
      "cell_type": "markdown",
      "metadata": {
        "id": "wVsGim8qUaw3",
        "colab_type": "text"
      },
      "source": [
        "Three different files will be obtained one for sport,business,tech.I have used an online text file joiner to join them into one file"
      ]
    },
    {
      "cell_type": "code",
      "metadata": {
        "id": "nm8DYNw9Uokz",
        "colab_type": "code",
        "colab": {}
      },
      "source": [
        ""
      ],
      "execution_count": 0,
      "outputs": []
    }
  ]
}