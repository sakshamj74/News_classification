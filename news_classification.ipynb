{
  "nbformat": 4,
  "nbformat_minor": 0,
  "metadata": {
    "colab": {
      "name": "news_classification.ipynb",
      "version": "0.3.2",
      "provenance": [],
      "collapsed_sections": []
    },
    "kernelspec": {
      "name": "python3",
      "display_name": "Python 3"
    },
    "accelerator": "GPU"
  },
  "cells": [
    {
      "cell_type": "code",
      "metadata": {
        "id": "kCpQ1BAPV1EO",
        "colab_type": "code",
        "colab": {}
      },
      "source": [
        "from sklearn import svm\n",
        "from sklearn.ensemble import RandomForestClassifier\n",
        "from sklearn.tree import DecisionTreeClassifier \n",
        "from sklearn.model_selection import GridSearchCV\n",
        "from sklearn.metrics import accuracy_score\n",
        "from sklearn.metrics import confusion_matrix,f1_score,precision_score,recall_score\n",
        "import pandas as pd\n",
        "import numpy as np\n",
        "import matplotlib.pyplot as plt"
      ],
      "execution_count": 0,
      "outputs": []
    },
    {
      "cell_type": "code",
      "metadata": {
        "id": "M9Pyv1TwV7tX",
        "colab_type": "code",
        "colab": {}
      },
      "source": [
        ""
      ],
      "execution_count": 0,
      "outputs": []
    },
    {
      "cell_type": "code",
      "metadata": {
        "id": "ZatXxQiGWAQS",
        "colab_type": "code",
        "colab": {}
      },
      "source": [
        "from google.colab import files"
      ],
      "execution_count": 0,
      "outputs": []
    },
    {
      "cell_type": "code",
      "metadata": {
        "id": "4A3AkRgwWDIa",
        "colab_type": "code",
        "colab": {}
      },
      "source": [
        "uploaded=files.upload()"
      ],
      "execution_count": 0,
      "outputs": []
    },
    {
      "cell_type": "code",
      "metadata": {
        "id": "jHfHd6d6WFnC",
        "colab_type": "code",
        "colab": {}
      },
      "source": [
        "df=pd.read_csv('2.txt')"
      ],
      "execution_count": 0,
      "outputs": []
    },
    {
      "cell_type": "code",
      "metadata": {
        "id": "9kZtzhihWW4G",
        "colab_type": "code",
        "colab": {}
      },
      "source": [
        "df.head()"
      ],
      "execution_count": 0,
      "outputs": []
    },
    {
      "cell_type": "code",
      "metadata": {
        "id": "Y4pXWOhkWYD9",
        "colab_type": "code",
        "colab": {}
      },
      "source": [
        "df.shape"
      ],
      "execution_count": 0,
      "outputs": []
    },
    {
      "cell_type": "code",
      "metadata": {
        "id": "e8EYNO_xW5v5",
        "colab_type": "code",
        "colab": {}
      },
      "source": [
        "df['Category'].value_counts()"
      ],
      "execution_count": 0,
      "outputs": []
    },
    {
      "cell_type": "code",
      "metadata": {
        "id": "xrVwq2skYPl0",
        "colab_type": "code",
        "colab": {}
      },
      "source": [
        "del df['Unnamed: 0']"
      ],
      "execution_count": 0,
      "outputs": []
    },
    {
      "cell_type": "code",
      "metadata": {
        "id": "StO_sh6MYyDj",
        "colab_type": "code",
        "colab": {}
      },
      "source": [
        "df1=df.copy()\n"
      ],
      "execution_count": 0,
      "outputs": []
    },
    {
      "cell_type": "code",
      "metadata": {
        "id": "wOMJ7rnDdJS8",
        "colab_type": "code",
        "colab": {}
      },
      "source": [
        "df=df1"
      ],
      "execution_count": 0,
      "outputs": []
    },
    {
      "cell_type": "code",
      "metadata": {
        "id": "oi0x-GmAYznF",
        "colab_type": "code",
        "colab": {}
      },
      "source": [
        "df.head()"
      ],
      "execution_count": 0,
      "outputs": []
    },
    {
      "cell_type": "code",
      "metadata": {
        "id": "pZqaEt7r9dAJ",
        "colab_type": "code",
        "colab": {}
      },
      "source": [
        "df.shape"
      ],
      "execution_count": 0,
      "outputs": []
    },
    {
      "cell_type": "code",
      "metadata": {
        "id": "vZBHyg-_Y0xl",
        "colab_type": "code",
        "colab": {}
      },
      "source": [
        "from sklearn.model_selection import train_test_split"
      ],
      "execution_count": 0,
      "outputs": []
    },
    {
      "cell_type": "code",
      "metadata": {
        "id": "gcRnhR_zY8hY",
        "colab_type": "code",
        "colab": {}
      },
      "source": [
        "data=df['News']"
      ],
      "execution_count": 0,
      "outputs": []
    },
    {
      "cell_type": "code",
      "metadata": {
        "id": "3gWyqHHvZAhG",
        "colab_type": "code",
        "colab": {}
      },
      "source": [
        "target=df['Category']"
      ],
      "execution_count": 0,
      "outputs": []
    },
    {
      "cell_type": "code",
      "metadata": {
        "id": "8G8Xukkwat_L",
        "colab_type": "code",
        "colab": {}
      },
      "source": [
        "from sklearn.preprocessing import LabelEncoder"
      ],
      "execution_count": 0,
      "outputs": []
    },
    {
      "cell_type": "code",
      "metadata": {
        "id": "NpEUzsqzat8q",
        "colab_type": "code",
        "colab": {}
      },
      "source": [
        "le=LabelEncoder()"
      ],
      "execution_count": 0,
      "outputs": []
    },
    {
      "cell_type": "code",
      "metadata": {
        "id": "nE8LY2mTax2J",
        "colab_type": "code",
        "colab": {}
      },
      "source": [
        "target=le.fit_transform(target)"
      ],
      "execution_count": 0,
      "outputs": []
    },
    {
      "cell_type": "code",
      "metadata": {
        "id": "YHZlK_tLax0j",
        "colab_type": "code",
        "colab": {}
      },
      "source": [
        "le.inverse_transform([0,1,2])"
      ],
      "execution_count": 0,
      "outputs": []
    },
    {
      "cell_type": "code",
      "metadata": {
        "id": "Pl50k40QZDvf",
        "colab_type": "code",
        "colab": {}
      },
      "source": [
        "xtrain,xtest,ytrain,ytest=train_test_split(data,target,test_size=0.3,random_state=42)"
      ],
      "execution_count": 0,
      "outputs": []
    },
    {
      "cell_type": "code",
      "metadata": {
        "id": "FJkv6I5sZVuj",
        "colab_type": "code",
        "colab": {}
      },
      "source": [
        "len(xtrain)"
      ],
      "execution_count": 0,
      "outputs": []
    },
    {
      "cell_type": "code",
      "metadata": {
        "id": "VgtXMKp2aKMD",
        "colab_type": "code",
        "colab": {}
      },
      "source": [
        "xtrain.shape"
      ],
      "execution_count": 0,
      "outputs": []
    },
    {
      "cell_type": "code",
      "metadata": {
        "id": "6cLLRkjqZYuH",
        "colab_type": "code",
        "colab": {}
      },
      "source": [
        "len(ytrain)"
      ],
      "execution_count": 0,
      "outputs": []
    },
    {
      "cell_type": "code",
      "metadata": {
        "id": "Td_UVD9YZqFk",
        "colab_type": "code",
        "colab": {}
      },
      "source": [
        "from sklearn.feature_extraction.text import TfidfVectorizer\n",
        "vectorizer =TfidfVectorizer(stop_words='english',ngram_range=(1,2))\n",
        "xtrain = vectorizer.fit_transform(xtrain)\n",
        "xtest = vectorizer.transform(xtest)\n",
        "#print(train_vectors.shape, test_vectors.shape)"
      ],
      "execution_count": 0,
      "outputs": []
    },
    {
      "cell_type": "code",
      "metadata": {
        "id": "D4vXMFnwaEXT",
        "colab_type": "code",
        "colab": {}
      },
      "source": [
        "xtrain.shape"
      ],
      "execution_count": 0,
      "outputs": []
    },
    {
      "cell_type": "code",
      "metadata": {
        "id": "XY8iYtqcaGIp",
        "colab_type": "code",
        "colab": {}
      },
      "source": [
        "xtest.shape"
      ],
      "execution_count": 0,
      "outputs": []
    },
    {
      "cell_type": "code",
      "metadata": {
        "id": "nZ8MhbCIaIGi",
        "colab_type": "code",
        "colab": {}
      },
      "source": [
        "ytrain.shape"
      ],
      "execution_count": 0,
      "outputs": []
    },
    {
      "cell_type": "code",
      "metadata": {
        "id": "cnkf15A6alXR",
        "colab_type": "code",
        "colab": {}
      },
      "source": [
        "ytrain"
      ],
      "execution_count": 0,
      "outputs": []
    },
    {
      "cell_type": "code",
      "metadata": {
        "id": "vQ94b2jYbh32",
        "colab_type": "code",
        "colab": {}
      },
      "source": [
        "\n",
        "clf = svm.SVC(C=1,kernel='linear')\n",
        "clf.fit(xtrain,ytrain)\n",
        "pred=clf.predict(xtest)\n",
        "acc=accuracy_score(ytest,pred)\n",
        "print(acc)\n",
        "print(confusion_matrix(ytest,pred))"
      ],
      "execution_count": 0,
      "outputs": []
    },
    {
      "cell_type": "markdown",
      "metadata": {
        "id": "QIpn7elwPBcY",
        "colab_type": "text"
      },
      "source": [
        "Checking the model with my own random inputs."
      ]
    },
    {
      "cell_type": "code",
      "metadata": {
        "id": "rwKgS7TvSa9q",
        "colab_type": "code",
        "colab": {}
      },
      "source": [
        "new4=['2019 World Cup | Rain takes over after Williamson and Taylor lead New Zealands fightback']\n",
        "new4=vectorizer.transform(new4)\n",
        "p=clf.predict(new4.todense())\n",
        "print(p)#Right"
      ],
      "execution_count": 0,
      "outputs": []
    },
    {
      "cell_type": "markdown",
      "metadata": {
        "id": "c6IP0In_-LI_",
        "colab_type": "text"
      },
      "source": [
        "0=Busines\n",
        "1=Sport\n",
        "2=Tech"
      ]
    },
    {
      "cell_type": "code",
      "metadata": {
        "id": "MPQ2A4vlUTWI",
        "colab_type": "code",
        "colab": {}
      },
      "source": [
        "new=['Bharti Airtel users consume about 11GB data per month; overtake Reliance JioNEWS Bharti Airtel users consume about 11GB data per month; overtake Reliance Jio']\n",
        "new=vectorizer.transform(new)\n",
        "p=clf.predict(new.todense())\n",
        "print(p)\n"
      ],
      "execution_count": 0,
      "outputs": []
    },
    {
      "cell_type": "code",
      "metadata": {
        "id": "zkarmsQ7fdfp",
        "colab_type": "code",
        "colab": {}
      },
      "source": [
        "new=['Xiaomi, Samsung dont target undecided smartphone buyers']\n",
        "new=vectorizer.transform(new)\n",
        "p=clf.predict(new.todense())\n",
        "print(p)\n"
      ],
      "execution_count": 0,
      "outputs": []
    },
    {
      "cell_type": "code",
      "metadata": {
        "id": "g6Xzo-jngWDS",
        "colab_type": "code",
        "colab": {}
      },
      "source": [
        "new1=['5G download speed nearly 3 times faster than 4G in US: Report']\n",
        "new1=vectorizer.transform(new1)\n",
        "p=clf.predict(new1.todense())\n",
        "print(p)"
      ],
      "execution_count": 0,
      "outputs": []
    },
    {
      "cell_type": "code",
      "metadata": {
        "id": "h-IcC6PLhBuH",
        "colab_type": "code",
        "colab": {}
      },
      "source": [
        "new2=['ICC World Cup: Its New Zealand seam attack vs Indian top']\n",
        "new2=vectorizer.transform(new2)\n",
        "p=clf.predict(new2.todense())\n",
        "print(p)"
      ],
      "execution_count": 0,
      "outputs": []
    },
    {
      "cell_type": "code",
      "metadata": {
        "id": "uPg4OWjW3W4g",
        "colab_type": "code",
        "colab": {}
      },
      "source": [
        "new3=['Nearly 4,000 companies set to gain from corporate tax reduction']\n",
        "new3=vectorizer.transform(new3)\n",
        "p=clf.predict(new3.todense())\n",
        "print(p)"
      ],
      "execution_count": 0,
      "outputs": []
    },
    {
      "cell_type": "code",
      "metadata": {
        "id": "BMdWAwHo4S0k",
        "colab_type": "code",
        "colab": {}
      },
      "source": [
        "new4=['18,000 Job Cuts Begin at Deutsche Bank with an Envelope, a Hug and a Cab Ride']\n",
        "new4=vectorizer.transform(new4)\n",
        "p=clf.predict(new4.todense())\n",
        "print(p)#Right"
      ],
      "execution_count": 0,
      "outputs": []
    },
    {
      "cell_type": "code",
      "metadata": {
        "id": "0EOm4AtHzrmi",
        "colab_type": "code",
        "colab": {}
      },
      "source": [
        "new4=['Sensex drops over 250 points; TCS down 2%']\n",
        "new4=vectorizer.transform(new4)\n",
        "p=clf.predict(new4.todense())\n",
        "print(p)#Right"
      ],
      "execution_count": 0,
      "outputs": []
    },
    {
      "cell_type": "code",
      "metadata": {
        "id": "ieWSqWdT0ND8",
        "colab_type": "code",
        "colab": {}
      },
      "source": [
        "new4=['Dr. Reddy’s launches drug for cold in the U.S']\n",
        "new4=vectorizer.transform(new4)\n",
        "p=clf.predict(new4.todense())\n",
        "print(p)#Right"
      ],
      "execution_count": 0,
      "outputs": []
    },
    {
      "cell_type": "code",
      "metadata": {
        "id": "2caljv3b_E_v",
        "colab_type": "code",
        "colab": {}
      },
      "source": [
        "\n",
        "clf=RandomForestClassifier(n_estimators=10,random_state=42,n_jobs=-1)\n",
        "clf.fit(xtrain,ytrain)\n",
        "pred=clf.predict(xtest)\n",
        "acc=accuracy_score(ytest,pred)\n",
        "print(acc)\n",
        "print(confusion_matrix(ytest,pred))"
      ],
      "execution_count": 0,
      "outputs": []
    },
    {
      "cell_type": "code",
      "metadata": {
        "id": "iTTzs2wZgBN7",
        "colab_type": "code",
        "colab": {}
      },
      "source": [
        "\n",
        "\n",
        "clf = DecisionTreeClassifier(random_state=42)\n",
        "clf.fit(xtrain,ytrain)\n",
        "pred=clf.predict(xtest)\n",
        "acc=accuracy_score(ytest,pred)\n",
        "print(acc)\n",
        "print(confusion_matrix(ytest,pred))"
      ],
      "execution_count": 0,
      "outputs": []
    },
    {
      "cell_type": "code",
      "metadata": {
        "id": "v_keamp5U7Kp",
        "colab_type": "code",
        "colab": {}
      },
      "source": [
        "new4=['Rafael Nadal Sets Up Wimbledon Semi-final against Roger Federer']\n",
        "new4=vectorizer.transform(new4)\n",
        "p=clf.predict(new4.todense())\n",
        "print(p)#Right"
      ],
      "execution_count": 0,
      "outputs": []
    },
    {
      "cell_type": "code",
      "metadata": {
        "id": "szeYgWlDTGPn",
        "colab_type": "code",
        "colab": {}
      },
      "source": [
        ""
      ],
      "execution_count": 0,
      "outputs": []
    }
  ]
}